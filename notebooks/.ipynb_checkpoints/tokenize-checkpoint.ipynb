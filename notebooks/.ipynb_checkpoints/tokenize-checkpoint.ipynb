{
 "cells": [
  {
   "cell_type": "code",
   "execution_count": 23,
   "metadata": {},
   "outputs": [],
   "source": [
    "from typing import Generator, List\n",
    "import pickle\n",
    "\n",
    "from gensim.models import Phrases\n",
    "from gensim.models.phrases import Phraser\n",
    "from gensim.utils import simple_preprocess\n",
    "from nltk.corpus import stopwords\n",
    "import spacy\n",
    "from spacy.lang.en import English"
   ]
  },
  {
   "cell_type": "code",
   "execution_count": 2,
   "metadata": {},
   "outputs": [],
   "source": [
    "with open(r\"C:/Users/chiruco/Desktop/python/ProyPython/SentimentalAnalysis/SentimentalAnalysis/data/interim/review_classes.pkl\", \"rb\") as input_file:\n",
    "    review_classes = pickle.load(input_file)"
   ]
  },
  {
   "cell_type": "code",
   "execution_count": 4,
   "metadata": {},
   "outputs": [],
   "source": [
    "positive_reviews = review_classes['POS']\n",
    "negative_reviews = review_classes['NEG']"
   ]
  },
  {
   "cell_type": "code",
   "execution_count": 12,
   "metadata": {},
   "outputs": [],
   "source": [
    "def sentences_to_words(sentences: List[str]) -> Generator:\n",
    "    for sentence in sentences:\n",
    "        # https://radimrehurek.com/gensim/utils.html#gensim.utils.simple_preprocess\n",
    "        yield(simple_preprocess(str(sentence), deacc=True))  # deacc=True elimina la puntuación"
   ]
  },
  {
   "cell_type": "code",
   "execution_count": 13,
   "metadata": {},
   "outputs": [],
   "source": [
    "def remove_stopwords(documents: List[List[str]]) -> List[List[str]]:\n",
    "    return [[word for word in simple_preprocess(str(doc)) if word not in stopwords.words('english')]\n",
    "            for doc in documents]"
   ]
  },
  {
   "cell_type": "code",
   "execution_count": 14,
   "metadata": {},
   "outputs": [],
   "source": [
    "def learn_bigrams(documents: List[List[str]]) -> List[List[str]]:\n",
    "    # We learn bigrams\n",
    "    #  https://radimrehurek.com/gensim/models/phrases.html#gensim.models.phrases.Phrases\n",
    "    bigram = Phrases(documents, min_count=5, threshold=10)\n",
    "\n",
    "    # we reduce the bigram model to its minimal functionality\n",
    "    bigram_mod = Phraser(bigram)\n",
    "\n",
    "    # we apply the bigram model to our documents\n",
    "    return [bigram_mod[doc] for doc in documents]\n"
   ]
  },
  {
   "cell_type": "code",
   "execution_count": 17,
   "metadata": {},
   "outputs": [],
   "source": [
    "def lemmatization(nlp: English, texts: List[List[str]], allowed_postags: List = None) -> List[List[str]]:\n",
    "    if allowed_postags is None:\n",
    "        allowed_postags = ['NOUN', 'ADJ', 'VERB', 'ADV']\n",
    "\n",
    "    \"\"\"https://spacy.io/api/annotation\"\"\"\n",
    "    texts_out = []\n",
    "    for sent in texts:\n",
    "        doc = nlp(\" \".join(sent))\n",
    "        texts_out.append([token.lemma_ for token in doc if token.pos_ in allowed_postags])\n",
    "    return texts_out"
   ]
  },
  {
   "cell_type": "code",
   "execution_count": 20,
   "metadata": {},
   "outputs": [],
   "source": [
    "nlp = spacy.load('en_core_web_lg', disable=['parser', 'ner'])"
   ]
  },
  {
   "cell_type": "code",
   "execution_count": 21,
   "metadata": {},
   "outputs": [],
   "source": [
    "def tokenize(documents: List[str]) -> List[List[str]]:\n",
    "\n",
    "    document_words = list(sentences_to_words(documents))\n",
    "    document_words = remove_stopwords(document_words)\n",
    "    document_words = learn_bigrams(document_words)\n",
    "    document_words = lemmatization(nlp, document_words)\n",
    "\n",
    "    return document_words"
   ]
  },
  {
   "cell_type": "code",
   "execution_count": 26,
   "metadata": {},
   "outputs": [],
   "source": [
    "positive_words = tokenize(positive_reviews)"
   ]
  },
  {
   "cell_type": "code",
   "execution_count": 27,
   "metadata": {},
   "outputs": [],
   "source": [
    "negative_words = tokenize(negative_reviews)"
   ]
  },
  {
   "cell_type": "code",
   "execution_count": 28,
   "metadata": {},
   "outputs": [],
   "source": [
    "with open(r\"../data/interim/positive_words.pkl\", \"wb\") as output_file:\n",
    "    pickle.dump(positive_words, output_file)\n",
    "\n",
    "with open(r\"../data/interim/negative_words.pkl\", \"wb\") as output_file:\n",
    "    pickle.dump(negative_words, output_file)"
   ]
  },
  {
   "cell_type": "code",
   "execution_count": null,
   "metadata": {},
   "outputs": [],
   "source": []
  }
 ],
 "metadata": {
  "kernelspec": {
   "display_name": "Python 3",
   "language": "python",
   "name": "python3"
  },
  "language_info": {
   "codemirror_mode": {
    "name": "ipython",
    "version": 3
   },
   "file_extension": ".py",
   "mimetype": "text/x-python",
   "name": "python",
   "nbconvert_exporter": "python",
   "pygments_lexer": "ipython3",
   "version": "3.8.3"
  }
 },
 "nbformat": 4,
 "nbformat_minor": 4
}
